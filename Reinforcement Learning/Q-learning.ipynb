{
 "cells": [
  {
   "cell_type": "markdown",
   "id": "fc3e6c7a",
   "metadata": {},
   "source": [
    "## Q-LEARNING"
   ]
  },
  {
   "cell_type": "code",
   "execution_count": 61,
   "id": "125fbb14",
   "metadata": {
    "scrolled": true
   },
   "outputs": [
    {
     "name": "stdout",
     "output_type": "stream",
     "text": [
      "Requirement already satisfied: gym in c:\\users\\ali haider\\anaconda3\\lib\\site-packages (0.26.2)\n",
      "Requirement already satisfied: importlib-metadata>=4.8.0 in c:\\users\\ali haider\\anaconda3\\lib\\site-packages (from gym) (4.11.3)\n",
      "Requirement already satisfied: gym-notices>=0.0.4 in c:\\users\\ali haider\\anaconda3\\lib\\site-packages (from gym) (0.0.8)\n",
      "Requirement already satisfied: cloudpickle>=1.2.0 in c:\\users\\ali haider\\anaconda3\\lib\\site-packages (from gym) (2.0.0)\n",
      "Requirement already satisfied: numpy>=1.18.0 in c:\\users\\ali haider\\anaconda3\\lib\\site-packages (from gym) (1.21.5)\n",
      "Requirement already satisfied: zipp>=0.5 in c:\\users\\ali haider\\anaconda3\\lib\\site-packages (from importlib-metadata>=4.8.0->gym) (3.7.0)\n"
     ]
    },
    {
     "name": "stderr",
     "output_type": "stream",
     "text": [
      "WARNING: Ignoring invalid distribution -rotobuf (c:\\users\\ali haider\\anaconda3\\lib\\site-packages)\n",
      "WARNING: Ignoring invalid distribution -ffi (c:\\users\\ali haider\\anaconda3\\lib\\site-packages)\n",
      "WARNING: Ignoring invalid distribution -rotobuf (c:\\users\\ali haider\\anaconda3\\lib\\site-packages)\n",
      "WARNING: Ignoring invalid distribution -ffi (c:\\users\\ali haider\\anaconda3\\lib\\site-packages)\n",
      "WARNING: Ignoring invalid distribution -rotobuf (c:\\users\\ali haider\\anaconda3\\lib\\site-packages)\n",
      "WARNING: Ignoring invalid distribution -ffi (c:\\users\\ali haider\\anaconda3\\lib\\site-packages)\n",
      "WARNING: Ignoring invalid distribution -rotobuf (c:\\users\\ali haider\\anaconda3\\lib\\site-packages)\n",
      "WARNING: Ignoring invalid distribution -ffi (c:\\users\\ali haider\\anaconda3\\lib\\site-packages)\n",
      "WARNING: Ignoring invalid distribution -rotobuf (c:\\users\\ali haider\\anaconda3\\lib\\site-packages)\n",
      "WARNING: Ignoring invalid distribution -ffi (c:\\users\\ali haider\\anaconda3\\lib\\site-packages)\n",
      "WARNING: Ignoring invalid distribution -rotobuf (c:\\users\\ali haider\\anaconda3\\lib\\site-packages)\n",
      "WARNING: Ignoring invalid distribution -ffi (c:\\users\\ali haider\\anaconda3\\lib\\site-packages)\n"
     ]
    }
   ],
   "source": [
    "!pip install gym\n",
    "import gym\n",
    "import numpy as np"
   ]
  },
  {
   "cell_type": "code",
   "execution_count": 76,
   "id": "413fd7b7",
   "metadata": {},
   "outputs": [],
   "source": [
    "env=gym.make('FrozenLake-v1')"
   ]
  },
  {
   "cell_type": "code",
   "execution_count": 63,
   "id": "54fbb830",
   "metadata": {},
   "outputs": [],
   "source": [
    "STATES=env.observation_space.n\n",
    "ACTIONS=env.action_space.n"
   ]
  },
  {
   "cell_type": "code",
   "execution_count": 64,
   "id": "1688c5e6",
   "metadata": {},
   "outputs": [
    {
     "data": {
      "text/plain": [
       "array([[0., 0., 0., 0.],\n",
       "       [0., 0., 0., 0.],\n",
       "       [0., 0., 0., 0.],\n",
       "       [0., 0., 0., 0.],\n",
       "       [0., 0., 0., 0.],\n",
       "       [0., 0., 0., 0.],\n",
       "       [0., 0., 0., 0.],\n",
       "       [0., 0., 0., 0.],\n",
       "       [0., 0., 0., 0.],\n",
       "       [0., 0., 0., 0.],\n",
       "       [0., 0., 0., 0.],\n",
       "       [0., 0., 0., 0.],\n",
       "       [0., 0., 0., 0.],\n",
       "       [0., 0., 0., 0.],\n",
       "       [0., 0., 0., 0.],\n",
       "       [0., 0., 0., 0.]])"
      ]
     },
     "execution_count": 64,
     "metadata": {},
     "output_type": "execute_result"
    }
   ],
   "source": [
    "Q=np.zeros((STATES,ACTIONS))\n",
    "Q"
   ]
  },
  {
   "cell_type": "code",
   "execution_count": 65,
   "id": "bc5cec78",
   "metadata": {},
   "outputs": [],
   "source": [
    "#env.reset()"
   ]
  },
  {
   "cell_type": "code",
   "execution_count": 66,
   "id": "4ae7a0bf",
   "metadata": {},
   "outputs": [],
   "source": [
    "#action=env.action_space.sample()\n",
    "#action"
   ]
  },
  {
   "cell_type": "code",
   "execution_count": 67,
   "id": "f19d811f",
   "metadata": {},
   "outputs": [],
   "source": [
    "#new_state,reward,done,info,probability=env.step(action)"
   ]
  },
  {
   "cell_type": "code",
   "execution_count": 68,
   "id": "8a4ee02d",
   "metadata": {},
   "outputs": [],
   "source": [
    "#env.render()"
   ]
  },
  {
   "cell_type": "code",
   "execution_count": 69,
   "id": "3f43f0c3",
   "metadata": {},
   "outputs": [],
   "source": [
    "EPISODES=1000\n",
    "STEPS=100\n",
    "LEARNING_RATE=0.81\n",
    "GAMMA=0.96\n",
    "RENDER=True\n",
    "epsilon=.9"
   ]
  },
  {
   "cell_type": "code",
   "execution_count": 40,
   "id": "c604fdeb",
   "metadata": {},
   "outputs": [],
   "source": [
    "#if np.random.uniform(0,1)<epslion:\n",
    "#   action=env.action_space.sample()\n",
    "#else:\n",
    "#    action=np.argmax((Q[state:]))\n"
   ]
  },
  {
   "cell_type": "code",
   "execution_count": 44,
   "id": "47ce24b4",
   "metadata": {},
   "outputs": [],
   "source": [
    "#Q[state,action]=Q[state,action]+LEARNING_RATE*(reward+GAMMA*np.max(Q[new_state,:])-Q[state,action])"
   ]
  },
  {
   "cell_type": "code",
   "execution_count": 74,
   "id": "35665a95",
   "metadata": {},
   "outputs": [],
   "source": [
    "rewards = []\n",
    "for episode in range(EPISODES):\n",
    "    state = env.reset()[0]\n",
    "    for _ in range(STEPS):  # Fixed typo: STESP to STEPS\n",
    "        if RENDER:\n",
    "            env.render()\n",
    "        if np.random.uniform(0, 1) < epsilon:  # Fixed typo: epslion to epsilon\n",
    "            action = env.action_space.sample()\n",
    "        else:\n",
    "            action = np.argmax(Q[state, :])  # Fixed typo: (Q[state:]) to (Q[state, :])\n",
    "            \n",
    "        new_state, reward, done, info,_ = env.step(action)  # Removed unused variable 'probability'\n",
    "        Q[state, action] = Q[state, action] + LEARNING_RATE * (reward + GAMMA * np.max(Q[new_state, :]) - Q[state, action])\n",
    "        state = new_state\n",
    "        if done:\n",
    "            rewards.append(reward)\n",
    "            epsilon -= 0.001  # Fixed typo: epslion to epsilon\n",
    "            break\n"
   ]
  },
  {
   "cell_type": "code",
   "execution_count": 75,
   "id": "751fe77f",
   "metadata": {},
   "outputs": [
    {
     "name": "stdout",
     "output_type": "stream",
     "text": [
      "[[2.54824199e-01 3.05345228e-02 2.82616992e-02 3.30956764e-02]\n",
      " [6.91351916e-05 3.39079559e-05 3.38339398e-03 2.50314434e-01]\n",
      " [7.56391418e-03 9.66822224e-03 8.57302764e-03 2.90596555e-01]\n",
      " [1.99622132e-03 4.40294870e-03 2.28331920e-03 1.28055951e-01]\n",
      " [2.37121548e-01 2.11017949e-02 1.62982202e-02 1.86753866e-02]\n",
      " [0.00000000e+00 0.00000000e+00 0.00000000e+00 0.00000000e+00]\n",
      " [1.39445322e-04 9.27084595e-07 3.16458613e-02 3.32888185e-04]\n",
      " [0.00000000e+00 0.00000000e+00 0.00000000e+00 0.00000000e+00]\n",
      " [1.40975191e-02 1.77285470e-02 2.17105102e-02 2.85966062e-01]\n",
      " [1.60075283e-02 3.80491358e-01 1.60561475e-02 6.52904426e-03]\n",
      " [2.58348934e-01 5.22356493e-03 5.73747547e-03 4.21633903e-03]\n",
      " [0.00000000e+00 0.00000000e+00 0.00000000e+00 0.00000000e+00]\n",
      " [0.00000000e+00 0.00000000e+00 0.00000000e+00 0.00000000e+00]\n",
      " [2.45350809e-02 2.67288588e-02 4.51802318e-01 2.19517452e-02]\n",
      " [1.99479352e-01 8.98819449e-01 1.73289592e-01 1.28594221e-01]\n",
      " [0.00000000e+00 0.00000000e+00 0.00000000e+00 0.00000000e+00]]\n"
     ]
    }
   ],
   "source": [
    "print(Q)"
   ]
  }
 ],
 "metadata": {
  "kernelspec": {
   "display_name": "Python 3 (ipykernel)",
   "language": "python",
   "name": "python3"
  },
  "language_info": {
   "codemirror_mode": {
    "name": "ipython",
    "version": 3
   },
   "file_extension": ".py",
   "mimetype": "text/x-python",
   "name": "python",
   "nbconvert_exporter": "python",
   "pygments_lexer": "ipython3",
   "version": "3.9.12"
  }
 },
 "nbformat": 4,
 "nbformat_minor": 5
}
